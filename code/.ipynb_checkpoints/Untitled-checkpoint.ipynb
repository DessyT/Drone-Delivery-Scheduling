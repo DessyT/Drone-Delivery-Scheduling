{
 "cells": [
  {
   "cell_type": "code",
   "execution_count": 1,
   "metadata": {},
   "outputs": [],
   "source": [
    "import numpy as np, random, operator"
   ]
  },
  {
   "cell_type": "code",
   "execution_count": 2,
   "metadata": {},
   "outputs": [],
   "source": [
    "class Order:\n",
    "    def __init__(self,lat,lon,name):\n",
    "        self.lat = lat\n",
    "        self.lon = lon\n",
    "        self.name = name\n",
    "\n",
    "    def toString(self):\n",
    "        return(\"lat = \",self.lat, \"lon = \",self.lon, \" name = \",self.name)\n",
    "\n",
    "    #Get the distance between this location and another\n",
    "    #Simple euclidean\n",
    "    def distance(self,location):\n",
    "        latDiff = abs(self.lat - location.lat)\n",
    "        lonDiff = abs(self.lon - location.lon)\n",
    "        distance = np.sqrt((latDiff ** 2) + (lonDiff ** 2))\n",
    "        return distance"
   ]
  },
  {
   "cell_type": "code",
   "execution_count": 5,
   "metadata": {},
   "outputs": [
    {
     "name": "stdout",
     "output_type": "stream",
     "text": [
      "('lat = ', 12, 'lon = ', 55, ' name = ', 'Andrew')\n",
      "('lat = ', 95, 'lon = ', 44, ' name = ', 'James')\n",
      "Distance\n",
      "83.72574275573791\n"
     ]
    }
   ],
   "source": [
    "#Test for now\n",
    "o1 = Order(57.1497,2.0943,\"Aberdeen\")\n",
    "o2 = Order(51.5074,0.1278,\"London\")\n",
    "print(o1.toString())\n",
    "print(o2.toString())\n",
    "\n",
    "print(\"Distance\")\n",
    "print(o1.distance(o2))"
   ]
  }
 ],
 "metadata": {
  "kernelspec": {
   "display_name": "Python 3",
   "language": "python",
   "name": "python3"
  },
  "language_info": {
   "codemirror_mode": {
    "name": "ipython",
    "version": 3
   },
   "file_extension": ".py",
   "mimetype": "text/x-python",
   "name": "python",
   "nbconvert_exporter": "python",
   "pygments_lexer": "ipython3",
   "version": "3.7.3"
  }
 },
 "nbformat": 4,
 "nbformat_minor": 2
}
